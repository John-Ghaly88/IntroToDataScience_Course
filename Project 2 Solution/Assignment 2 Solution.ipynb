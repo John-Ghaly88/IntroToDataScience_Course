{
 "cells": [
  {
   "cell_type": "code",
   "execution_count": 1,
   "metadata": {},
   "outputs": [],
   "source": [
    "import pandas as pd\n",
    "from sklearn.model_selection import train_test_split\n",
    "\n",
    "epl_test = pd.read_excel('EPL_Testing.xlsx')\n",
    "epl_train = pd.read_excel('EPL_Training.xlsx')\n",
    "\n",
    "x=epl_train.drop(columns=['HomeTeam','AwayTeam','FTR'])\n",
    "y=epl_train['FTR']\n",
    "\n",
    "m = epl_test.drop(columns=['HomeTeam','AwayTeam','FTR'])\n",
    "n = epl_test['FTR']"
   ]
  },
  {
   "cell_type": "code",
   "execution_count": 2,
   "metadata": {},
   "outputs": [],
   "source": [
    "from sklearn.neighbors import KNeighborsClassifier\n",
    "\n",
    "Dict1 = {1: 0,2: 0,3: 0,4: 0,5: 0,6: 0,7: 0,8: 0,9: 0,10: 0}\n",
    "\n",
    "errors=0\n",
    "\n",
    "k=10\n",
    "\n",
    "\n",
    "\n",
    "for i in range (1000):\n",
    "    x_train, x_test, y_train, y_test= train_test_split(x,y,test_size=0.05)\n",
    "    a=y_test.reset_index(drop=True)\n",
    "    for j in range(1,10+1):\n",
    "        errors=0\n",
    "        model = KNeighborsClassifier(n_neighbors=j)\n",
    "        model.fit(x_train,y_train)\n",
    "        predictions=model.predict(x_test)\n",
    "        for i in range(0,len(y_test)):\n",
    "            if predictions[i]!=a[i]:\n",
    "                errors+=1\n",
    "        Dict1[j]+=errors\n",
    "        "
   ]
  },
  {
   "cell_type": "code",
   "execution_count": 3,
   "metadata": {},
   "outputs": [
    {
     "name": "stdout",
     "output_type": "stream",
     "text": [
      "7\n"
     ]
    }
   ],
   "source": [
    "#print(Dict1)\n",
    "average={1:Dict1[1]/1000,2:Dict1[2]/1000,3:Dict1[3]/1000,4:Dict1[4]/1000,5:Dict1[5]/1000,6:Dict1[6]/1000,7:Dict1[7]/1000,8:Dict1[8]/1000,9:Dict1[9]/1000,10:Dict1[10]/1000,}\n",
    "#print(average)\n",
    "minimum_k = min(average, key=average.get)\n",
    "print(minimum_k)"
   ]
  },
  {
   "cell_type": "code",
   "execution_count": 4,
   "metadata": {},
   "outputs": [
    {
     "data": {
      "image/png": "[encoded data removed]",
      "text/plain": [
       "<Figure size 432x288 with 1 Axes>"
      ]
     },
     "metadata": {
      "needs_background": "light"
     },
     "output_type": "display_data"
    }
   ],
   "source": [
    "import matplotlib.pylab as plt\n",
    "\n",
    "lists = sorted(average.items())\n",
    "\n",
    "w,z = zip(*lists)\n",
    "\n",
    "plt.plot(w,z)\n",
    "plt.show()"
   ]
  },
  {
   "cell_type": "code",
   "execution_count": 5,
   "metadata": {},
   "outputs": [
    {
     "name": "stdout",
     "output_type": "stream",
     "text": [
      "The classification accuracy is = 62.295081967213115 %\n"
     ]
    }
   ],
   "source": [
    "correct=0\n",
    "model2 = KNeighborsClassifier(n_neighbors=minimum_k)\n",
    "model2.fit(x,y)\n",
    "predictions2=model2.predict(m)\n",
    "for i in range(0,len(n)):\n",
    "    if predictions2[i]==n[i]:\n",
    "        correct+=1\n",
    "accuracy = (correct / len(n)) * 100\n",
    "print(f\"The classification accuracy is = {accuracy} %\")"
   ]
  },
  {
   "cell_type": "code",
   "execution_count": null,
   "metadata": {},
   "outputs": [],
   "source": []
  },
  {
   "cell_type": "code",
   "execution_count": null,
   "metadata": {},
   "outputs": [],
   "source": []
  }
 ],
 "metadata": {
  "kernelspec": {
   "display_name": "Python 3",
   "language": "python",
   "name": "python3"
  },
  "language_info": {
   "codemirror_mode": {
    "name": "ipython",
    "version": 3
   },
   "file_extension": ".py",
   "mimetype": "text/x-python",
   "name": "python",
   "nbconvert_exporter": "python",
   "pygments_lexer": "ipython3",
   "version": "3.8.5"
  }
 },
 "nbformat": 4,
 "nbformat_minor": 4
}
